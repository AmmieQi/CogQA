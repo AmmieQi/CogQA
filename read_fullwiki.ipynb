{
 "cells": [
  {
   "cell_type": "code",
   "execution_count": null,
   "metadata": {
    "collapsed": true
   },
   "outputs": [],
   "source": [
    "# %pdb on\n",
    "import bz2\n",
    "import json\n",
    "from tqdm import tqdm_notebook\n",
    "import os\n",
    "from itertools import chain\n",
    "import re\n",
    "import pickle as pkl\n",
    "from urllib.parse import unquote\n",
    "HTML_SYM = re.compile(r'<(.*?)>')\n",
    "EDGE_XY = re.compile(r'<a href=\"(.*?)\">(.*?)</a>')\n"
   ]
  },
  {
   "cell_type": "code",
   "execution_count": null,
   "metadata": {
    "collapsed": true
   },
   "outputs": [],
   "source": [
    "def get_edges(sentence):\n",
    "    ret = EDGE_XY.findall(sentence)\n",
    "    return [unquote(x) + '###' + y for x, y in ret]"
   ]
  },
  {
   "cell_type": "code",
   "execution_count": null,
   "metadata": {},
   "outputs": [],
   "source": [
    "from redis import StrictRedis\n",
    "db = StrictRedis(host='localhost', port=6379, db=0)"
   ]
  },
  {
   "cell_type": "code",
   "execution_count": null,
   "metadata": {},
   "outputs": [],
   "source": [
    "WIKI_PATH = './enwiki-20171001-pages-meta-current-withlinks-abstracts/'\n",
    "files = [os.path.join(WIKI_PATH, dirname, filename) \n",
    "         for dirname in os.listdir(WIKI_PATH) \n",
    "         for filename in os.listdir(os.path.join(WIKI_PATH, dirname)) \n",
    "        ]\n",
    "\n",
    "\n",
    "for filename in tqdm_notebook(files):\n",
    "    print(filename)\n",
    "    if os.path.isfile(filename):\n",
    "        with bz2.open(filename, 'rb') as fin:\n",
    "            for line in fin:\n",
    "                page = json.loads(line)\n",
    "#                 print(page['title'])\n",
    "#                 print(page['text_with_links'])\n",
    "                if len(page['text']) >= 1: # fixed\n",
    "                    db.delete(page['title'])\n",
    "                    db.rpush(page['title'], *(page['text']))\n",
    "                    for i, sentence in enumerate(page['text_with_links']):\n",
    "                        t = get_edges(sentence)\n",
    "                        if len(t) > 0:\n",
    "                            name = 'edges:###'+ str(i) + '###' + page['title']\n",
    "                            db.delete(name)\n",
    "                            db.rpush(name, *t)\n",
    "                        \n",
    "                    \n",
    "    #break"
   ]
  },
  {
   "cell_type": "code",
   "execution_count": null,
   "metadata": {},
   "outputs": [],
   "source": [
    "# print(sum([len(x) for x in pages[0].text]))\n",
    "# print(pages[0].text)\n",
    "# print(pages[-1].text)\n",
    "print(len(pages))"
   ]
  },
  {
   "cell_type": "code",
   "execution_count": null,
   "metadata": {
    "collapsed": true
   },
   "outputs": [],
   "source": [
    "with open('./fullwiki.pkl', 'wb') as fout:\n",
    "    pkl.dump(pages, fout)"
   ]
  }
 ],
 "metadata": {
  "kernelspec": {
   "display_name": "Python 3",
   "language": "python",
   "name": "python3"
  },
  "language_info": {
   "codemirror_mode": {
    "name": "ipython",
    "version": 3
   },
   "file_extension": ".py",
   "mimetype": "text/x-python",
   "name": "python",
   "nbconvert_exporter": "python",
   "pygments_lexer": "ipython3",
   "version": "3.6.5"
  }
 },
 "nbformat": 4,
 "nbformat_minor": 2
}
